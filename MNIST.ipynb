{
 "cells": [
  {
   "cell_type": "markdown",
   "metadata": {},
   "source": [
    "## Handwritten digit classification using the MNIST dataset"
   ]
  },
  {
   "cell_type": "code",
   "execution_count": 1,
   "metadata": {},
   "outputs": [],
   "source": [
    "import numpy as np\n",
    "import matplotlib.pyplot as plt\n",
    "import pandas as pd\n",
    "from tqdm import tqdm\n",
    "from ml import nn"
   ]
  },
  {
   "cell_type": "code",
   "execution_count": 2,
   "metadata": {},
   "outputs": [],
   "source": [
    "#Create Dataset\n",
    "train_data = np.array(pd.read_csv(\"./data/mnist/mnist_train.csv\"))\n",
    "test_data = np.array(pd.read_csv(\"./data/mnist/mnist_test.csv\"))"
   ]
  },
  {
   "cell_type": "code",
   "execution_count": 3,
   "metadata": {},
   "outputs": [
    {
     "name": "stdout",
     "output_type": "stream",
     "text": [
      "This is a  5\n"
     ]
    },
    {
     "data": {
      "image/png": "[encoded data removed]",
      "text/plain": [
       "<Figure size 432x288 with 1 Axes>"
      ]
     },
     "metadata": {
      "needs_background": "light"
     },
     "output_type": "display_data"
    }
   ],
   "source": [
    "plt.imshow(train_data[0,1:].reshape(28,28))\n",
    "print(\"This is a \",train_data[0,0])"
   ]
  },
  {
   "cell_type": "code",
   "execution_count": 4,
   "metadata": {},
   "outputs": [],
   "source": [
    "X_train = train_data[:,1:].T/255\n",
    "Y_train = train_data[:,0]\n",
    "#one hot endcoding\n",
    "Y_train = np.array([[(1 if i==y else 0) for i in range(0,10)] for y in Y_train]).T\n",
    "\n",
    "X_test = test_data[:,1:].T/255\n",
    "Y_test = test_data[:,0]\n",
    "#one hot encoding\n",
    "Y_test = np.array([[(1 if i==y else 0) for i in range(0,10)] for y in Y_test]).T"
   ]
  },
  {
   "cell_type": "code",
   "execution_count": 5,
   "metadata": {},
   "outputs": [
    {
     "name": "stdout",
     "output_type": "stream",
     "text": [
      "X_train: (784, 60000)\n",
      "Y_train: (10, 60000)\n"
     ]
    }
   ],
   "source": [
    "print(\"X_train: {}\".format(X_train.shape))\n",
    "print(\"Y_train: {}\".format(Y_train.shape))"
   ]
  },
  {
   "cell_type": "code",
   "execution_count": 6,
   "metadata": {},
   "outputs": [],
   "source": [
    "#Create a feed forward neural network\n",
    "L = [X_train.shape[0],50,30,20,10]\n",
    "g = [nn.linear,nn.relu,nn.relu,nn.relu,nn.softmax]\n",
    "network = nn.FeedForwardNN(L,g)"
   ]
  },
  {
   "cell_type": "code",
   "execution_count": 7,
   "metadata": {},
   "outputs": [
    {
     "name": "stderr",
     "output_type": "stream",
     "text": [
      "100%|███████████████████████████████████████████████████████████████████████████████| 938/938 [00:02<00:00, 386.36it/s]\n",
      "100%|███████████████████████████████████████████████████████████████████████████████| 938/938 [00:02<00:00, 383.40it/s]\n",
      "100%|███████████████████████████████████████████████████████████████████████████████| 938/938 [00:02<00:00, 407.22it/s]\n"
     ]
    },
    {
     "data": {
      "image/png": "[encoded data removed]",
      "text/plain": [
       "<Figure size 432x288 with 1 Axes>"
      ]
     },
     "metadata": {
      "needs_background": "light"
     },
     "output_type": "display_data"
    }
   ],
   "source": [
    "#Training the model on the train_data\n",
    "BATCH_SIZE = 64\n",
    "EPOCHS = 3\n",
    "costs = []\n",
    "for epoch in range(0,EPOCHS):\n",
    "    for i in tqdm(range(0,X_train.shape[1],BATCH_SIZE)):\n",
    "        X_batch = X_train[:,i:i+BATCH_SIZE]\n",
    "        Y_batch = Y_train[:,i:i+BATCH_SIZE]\n",
    "        c = network.train(X_batch,Y_batch,learning_rate=0.1,loss=nn.multiclass_cross_entropy)\n",
    "        costs.append(c)\n",
    "plt.plot(costs)\n",
    "plt.axhline(color=\"k\")\n",
    "plt.xlabel(\"Iterations\")\n",
    "plt.ylabel(\"Cost\")\n",
    "plt.show()"
   ]
  },
  {
   "cell_type": "code",
   "execution_count": 8,
   "metadata": {},
   "outputs": [
    {
     "name": "stdout",
     "output_type": "stream",
     "text": [
      "Train Accuracy:  0.9211333333333334\n"
     ]
    }
   ],
   "source": [
    "#Accuracy of the model on the train data\n",
    "out = network.predict(X_train)\n",
    "pred = out.argmax(axis=0)\n",
    "##one hot encoding predictions\n",
    "pred = np.array([[(1 if i==y else 0) for i in range(0,10)] for y in pred]).T\n",
    "accuracy = 1- np.sum((pred-Y_train)**2)/Y_train.shape[1]\n",
    "print(\"Train Accuracy: \", accuracy)"
   ]
  },
  {
   "cell_type": "code",
   "execution_count": 9,
   "metadata": {},
   "outputs": [
    {
     "name": "stdout",
     "output_type": "stream",
     "text": [
      "Test Accuracy:  0.911\n"
     ]
    }
   ],
   "source": [
    "#Testing the accuracy of the model on an untrained test_set\n",
    "out = network.predict(X_test)\n",
    "pred = out.argmax(axis=0)\n",
    "##one hot encoding predictions\n",
    "pred = np.array([[(1 if i==y else 0) for i in range(0,10)] for y in pred]).T\n",
    "accuracy = 1- np.sum((pred-Y_test)**2)/Y_test.shape[1]\n",
    "print(\"Test Accuracy: \", accuracy)"
   ]
  }
 ],
 "metadata": {
  "kernelspec": {
   "display_name": "Python 3",
   "language": "python",
   "name": "python3"
  },
  "language_info": {
   "codemirror_mode": {
    "name": "ipython",
    "version": 3
   },
   "file_extension": ".py",
   "mimetype": "text/x-python",
   "name": "python",
   "nbconvert_exporter": "python",
   "pygments_lexer": "ipython3",
   "version": "3.7.4"
  }
 },
 "nbformat": 4,
 "nbformat_minor": 4
}
